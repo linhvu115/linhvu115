{
  "nbformat": 4,
  "nbformat_minor": 0,
  "metadata": {
    "colab": {
      "name": "ISA365 Exercise 3.ipynb",
      "provenance": [],
      "include_colab_link": true
    },
    "kernelspec": {
      "name": "ir",
      "display_name": "R"
    },
    "language_info": {
      "name": "R"
    }
  },
  "cells": [
    {
      "cell_type": "markdown",
      "metadata": {
        "id": "view-in-github",
        "colab_type": "text"
      },
      "source": [
        "<a href=\"https://colab.research.google.com/github/linhvu115/linhvu115/blob/main/ISA365_Exercise_3.ipynb\" target=\"_parent\"><img src=\"https://colab.research.google.com/assets/colab-badge.svg\" alt=\"Open In Colab\"/></a>"
      ]
    },
    {
      "cell_type": "markdown",
      "source": [
        "# **In Class Exercise #3**"
      ],
      "metadata": {
        "id": "aELRMZGOwX0z"
      }
    },
    {
      "cell_type": "markdown",
      "source": [
        "# **Sampling Distribution of Proportions**"
      ],
      "metadata": {
        "id": "ET9Ah6y2wfNB"
      }
    },
    {
      "cell_type": "markdown",
      "source": [
        "A lot of business data can be represented by a binary event. For example, many reltailers are interested if a person purchased a product or not, or if someone clicked on a certain button or not, or if a person signed up for a service or not....etc.\n",
        "\n",
        "Data that is a count of binary events can be represtned with a binonmial distribution.  For example if we wanted to simulate the proportion of purchases out of a sample of 100 people given there is a 5% probablity that someone makes a purchse we can use rbinom()."
      ],
      "metadata": {
        "id": "MDtMKtVYwkxB"
      }
    },
    {
      "cell_type": "code",
      "execution_count": null,
      "metadata": {
        "id": "4ju5sLCmwV5L"
      },
      "outputs": [],
      "source": [
        "rbinom(100, 1, 0.05)"
      ]
    },
    {
      "cell_type": "markdown",
      "source": [
        "Now if we wanted to understand the how that sample proportion, $\\hat{p}$, behaved, we would want to sample many different sets of $n=100$ with $p=0.05$ and look at the distribution of those sample proportions.  \n",
        "\n",
        "What is this distribution called?"
      ],
      "metadata": {
        "id": "eOBiEepjyku8"
      }
    },
    {
      "cell_type": "code",
      "source": [
        "p<-0.05\n",
        "n<-100\n",
        "phat<-c()\n",
        "for (i in 1:1000){\n",
        "  phat[i]<-sum(rbinom(n, 1, p))/n\n",
        "}\n",
        "hist(phat)"
      ],
      "metadata": {
        "colab": {
          "base_uri": "https://localhost:8080/",
          "height": 437
        },
        "id": "z8FF3_bizWoI",
        "outputId": "b9aa78b5-ceaf-4551-d5b2-7b9536f00135"
      },
      "execution_count": null,
      "outputs": [
        {
          "output_type": "display_data",
          "data": {
            "text/plain": [
              "Plot with title “Histogram of phat”"
            ],
            "image/png": "[encoded data removed]"
          },
          "metadata": {
            "image/png": {
              "width": 420,
              "height": 420
            }
          }
        }
      ]
    },
    {
      "cell_type": "code",
      "source": [
        "mean(phat)"
      ],
      "metadata": {
        "colab": {
          "base_uri": "https://localhost:8080/",
          "height": 34
        },
        "id": "4MJ0mtINz-CH",
        "outputId": "118645c7-047a-4c59-cff0-505fad13fa1d"
      },
      "execution_count": null,
      "outputs": [
        {
          "output_type": "display_data",
          "data": {
            "text/html": [
              "0.04896"
            ],
            "text/markdown": "0.04896",
            "text/latex": "0.04896",
            "text/plain": [
              "[1] 0.04896"
            ]
          },
          "metadata": {}
        }
      ]
    },
    {
      "cell_type": "markdown",
      "source": [
        "What would we call the following number?"
      ],
      "metadata": {
        "id": "Syqmd8Ur0mXx"
      }
    },
    {
      "cell_type": "code",
      "source": [
        "sd(phat)"
      ],
      "metadata": {
        "colab": {
          "base_uri": "https://localhost:8080/",
          "height": 34
        },
        "id": "B0xdkzvl0AwR",
        "outputId": "36becd8e-d0bb-476f-d4ac-8b87a415374a"
      },
      "execution_count": null,
      "outputs": [
        {
          "output_type": "display_data",
          "data": {
            "text/html": [
              "0.0214331000505708"
            ],
            "text/markdown": "0.0214331000505708",
            "text/latex": "0.0214331000505708",
            "text/plain": [
              "[1] 0.0214331"
            ]
          },
          "metadata": {}
        }
      ]
    },
    {
      "cell_type": "markdown",
      "source": [
        "The formula for calculating this directly is $$\\sqrt{\\frac{p(1-p)}{n}} $$"
      ],
      "metadata": {
        "id": "qtw7JvmX1Adk"
      }
    },
    {
      "cell_type": "markdown",
      "source": [
        "But you notice that our simulated number doesn't match our theoretical number.  It turns out that this is the standard error of the proportion only when certain conditions are met.  If we take $q=1-p$ then $np$ and $nq$ should be greater than 10.  Is that met in our example? "
      ],
      "metadata": {
        "id": "s3HUkV2t1vx-"
      }
    },
    {
      "cell_type": "code",
      "source": [
        "sqrt((0.05*0.95)/100)"
      ],
      "metadata": {
        "colab": {
          "base_uri": "https://localhost:8080/",
          "height": 34
        },
        "id": "m5QH8hct03n1",
        "outputId": "feeebc46-d6d4-4406-8e3a-9bb7aa0a58d8"
      },
      "execution_count": null,
      "outputs": [
        {
          "output_type": "display_data",
          "data": {
            "text/html": [
              "0.0217944947177034"
            ],
            "text/markdown": "0.0217944947177034",
            "text/latex": "0.0217944947177034",
            "text/plain": [
              "[1] 0.02179449"
            ]
          },
          "metadata": {}
        }
      ]
    },
    {
      "cell_type": "markdown",
      "source": [
        "Even though the we generated data using the binomial distribution, the sampling distribution of the sample proportion, $\\hat{p}$ can be approximated with a normal distribution as long as those conditions are met.  We use this normal approixmation when possible to make inferences regarding $\\hat{p}$.\n",
        "\n",
        "If we use this approximation and the sample size requirements are met then we can calculate a confidenc interval for a sample proportion using $$ \\hat{p} \\pm z^*\\sqrt{\\frac{\\hat{p}\\hat{q}}{n}}$$ where $z^*$ is the critical value for a given $\\alpha$ level."
      ],
      "metadata": {
        "id": "SiqXMpH18zNp"
      }
    },
    {
      "cell_type": "markdown",
      "source": [
        "For our mean sample proportion above, calculate a 99% confidence interval."
      ],
      "metadata": {
        "id": "kgXGEFzUIwjS"
      }
    },
    {
      "cell_type": "code",
      "source": [
        "mean(phat)+pnorm(0.995)*sqrt((mean(phat)*(1-mean(phat)))/n)\n",
        "sqrt((mean(phat)*(1-mean(phat)))/n)\n"
      ],
      "metadata": {
        "colab": {
          "base_uri": "https://localhost:8080/",
          "height": 52
        },
        "id": "-HJp_ZsYJAJE",
        "outputId": "5239827b-0c20-4fb3-aa7e-030499a3f147"
      },
      "execution_count": null,
      "outputs": [
        {
          "output_type": "display_data",
          "data": {
            "text/html": [
              "0.0670887372660072"
            ],
            "text/markdown": "0.0670887372660072",
            "text/latex": "0.0670887372660072",
            "text/plain": [
              "[1] 0.06708874"
            ]
          },
          "metadata": {}
        },
        {
          "output_type": "display_data",
          "data": {
            "text/html": [
              "0.0215784425758672"
            ],
            "text/markdown": "0.0215784425758672",
            "text/latex": "0.0215784425758672",
            "text/plain": [
              "[1] 0.02157844"
            ]
          },
          "metadata": {}
        }
      ]
    },
    {
      "cell_type": "code",
      "source": [
        "mean(phat)-qnorm(0.995)*sqrt((mean(phat)*(1-mean(phat)))/n)"
      ],
      "metadata": {
        "colab": {
          "base_uri": "https://localhost:8080/",
          "height": 34
        },
        "id": "3NB2iP1dJzaN",
        "outputId": "eedb2e75-5f65-471f-815a-1c6bdae7be14"
      },
      "execution_count": null,
      "outputs": [
        {
          "output_type": "display_data",
          "data": {
            "text/html": [
              "-0.00662238471186604"
            ],
            "text/markdown": "-0.00662238471186604",
            "text/latex": "-0.00662238471186604",
            "text/plain": [
              "[1] -0.006622385"
            ]
          },
          "metadata": {}
        }
      ]
    },
    {
      "cell_type": "markdown",
      "source": [
        "# **Exercise**"
      ],
      "metadata": {
        "id": "M_733vCjKKQt"
      }
    },
    {
      "cell_type": "markdown",
      "source": [
        "Read in the data from SR2.csv. Provide a graph and a summary of this data."
      ],
      "metadata": {
        "id": "NP0VpG3DKVCh"
      }
    },
    {
      "cell_type": "code",
      "source": [],
      "metadata": {
        "id": "9ISnd-I-KZXq"
      },
      "execution_count": null,
      "outputs": []
    },
    {
      "cell_type": "markdown",
      "source": [
        "Using that data, produce a 95% confidence interval for the population proportion.  Assume a \"1\" indicates our event of interest."
      ],
      "metadata": {
        "id": "evmIPqOOKZ1z"
      }
    },
    {
      "cell_type": "code",
      "source": [],
      "metadata": {
        "id": "CYsgfXL9K1vS"
      },
      "execution_count": null,
      "outputs": []
    },
    {
      "cell_type": "code",
      "source": [],
      "metadata": {
        "id": "fMi_cVg0NYrl"
      },
      "execution_count": null,
      "outputs": []
    },
    {
      "cell_type": "code",
      "source": [
        "prop.test(115, 132, p = 0.7, alternative = \"two.sided\", correct = TRUE)"
      ],
      "metadata": {
        "id": "wmUcEKp0Khh0"
      },
      "execution_count": null,
      "outputs": []
    },
    {
      "cell_type": "markdown",
      "source": [
        "Using the data perform a two-sided test of hypothesis to test to see if $p=0.7$.  Use $\\alpha=0.05$.  Makes sure to state your hypothesis and your conclusion."
      ],
      "metadata": {
        "id": "Y9p1u1YpKpVo"
      }
    },
    {
      "cell_type": "code",
      "source": [
        "prop.test(115, 132, p = 0.7, alternative = \"two.sided\", correct = TRUE)"
      ],
      "metadata": {
        "id": "R1wHE6X5K4vW"
      },
      "execution_count": null,
      "outputs": []
    }
  ]
}